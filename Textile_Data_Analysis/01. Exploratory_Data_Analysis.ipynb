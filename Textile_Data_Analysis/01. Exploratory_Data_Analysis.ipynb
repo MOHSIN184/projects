{
 "cells": [
  {
   "cell_type": "markdown",
   "id": "ae186385",
   "metadata": {},
   "source": [
    "# **Textile Company Data Analysis**\n",
    "\n",
    "## **Summary**\n",
    "\n",
    "This notebook walks through a full data analysis for a textile company’s business deals. We focus on predicting commissions and finding ways to improve business results. The analysis covers more than 4,500 contracts to spot what drives success, strengthen supplier and customer relationships, and build models that predict commissions with 98.4% accuracy.\n",
    "\n",
    "**Main Questions We Answer:**\n",
    "- Which suppliers and customers help the business the most?\n",
    "- How can we predict commission amounts for new deals?\n",
    "- What factors affect profits the most?\n",
    "\n",
    "**About the Data:**\n",
    "- **Company**: Textile Company (manufacturing and exporting textiles)\n",
    "- **What’s Included**: Deals with suppliers, customers, and internal teams\n",
    "- **Time Frame**: Several years, covering different market conditions\n",
    "- **Size**: Over 4,500 contracts\n",
    "- **Key Details**: Commission amounts, payment terms, exchange rates, quantities, and performance\n",
    "\n",
    "## **Business Background & Goals**\n",
    "\n",
    "**Who’s Involved:**\n",
    "- **Suppliers**: Provide materials and manufacturing (e.g., SWU, Samad Rubber)\n",
    "- **Customers**: International buyers (e.g., Tiffosi, Takko)\n",
    "- **Internal Teams**: Managed by experienced leaders (names kept private)\n",
    "\n",
    "**What We Want to Achieve:**\n",
    "1. **Find What Works**: Discover which relationships and patterns lead to success\n",
    "2. **Predict Commissions**: Build models to forecast commissions for planning\n",
    "3. **Clean Data**: Make sure our data is accurate and reliable\n",
    "4. **Give Useful Advice**: Share clear recommendations for growth and efficiency\n",
    "\n",
    "## **What’s in This Notebook**\n",
    "\n",
    "### **Step 1: Data Preparation**\n",
    "- Clean and organize the data\n",
    "- Spot and fix errors or outliers\n",
    "- Rename columns for clarity\n",
    "\n",
    "### **Step 2: Business Insights**\n",
    "- Explore the data to find important trends\n",
    "- Map out relationships between suppliers, customers, and teams\n",
    "- Analyze commission structures and payment terms\n",
    "\n",
    "### **Step 3: Predictive Modeling**\n",
    "- Build machine learning models to predict commissions\n",
    "- Achieve high accuracy (98.4%)\n",
    "- Find out which features matter most\n",
    "\n",
    "### **Step 4: Recommendations**\n",
    "- Share practical tips for improving operations\n",
    "- Suggest how to allocate resources based on data\n",
    "- Point out risks and opportunities\n",
    "\n",
    "---\n",
    "\n",
    "*This analysis turns raw business data into clear insights, helping the company make smart decisions and grow sustainably.*\n"
   ]
  },
  {
   "cell_type": "markdown",
   "id": "02695a3c",
   "metadata": {},
   "source": [
    "### **Environment Setup & Library Import**\n",
    "\n",
    "#### **What We're Doing:**\n",
    "We're getting our workspace ready with the main Python tools for working with data, making charts, and building machine learning models.\n",
    "\n",
    "**Main Libraries:**\n",
    "- **pandas**: For handling and analyzing data\n",
    "- **seaborn & matplotlib**: For making charts and graphs\n",
    "- **scikit-learn**: For machine learning and data prep\n",
    "- **plotly**: For interactive and business-friendly visuals\n",
    "\n",
    "**Extra Tools:**\n",
    "- **IPython.display**: For better notebook formatting\n",
    "- **warnings**: To keep our output clean and easy to read"
   ]
  },
  {
   "cell_type": "code",
   "execution_count": 1,
   "id": "37b71ef4",
   "metadata": {},
   "outputs": [
    {
     "name": "stdout",
     "output_type": "stream",
     "text": [
      " All libraries imported successfully!\n",
      " Environment ready for comprehensive analysis!\n"
     ]
    }
   ],
   "source": [
    "import pandas as pd\n",
    "import numpy as np\n",
    "\n",
    "# Enhanced Display and Widgets\n",
    "from IPython.display import display, HTML, Markdown\n",
    "import ipywidgets as widgets\n",
    "from IPython.display import clear_output\n",
    "\n",
    "\n",
    "print(\" All libraries imported successfully!\")\n",
    "print(\" Environment ready for comprehensive analysis!\")"
   ]
  },
  {
   "cell_type": "markdown",
   "id": "0ac97b93",
   "metadata": {},
   "source": [
    "### *Load the dataset*\n",
    "\n",
    "```python"
   ]
  },
  {
   "cell_type": "code",
   "execution_count": 3,
   "id": "37fd927b",
   "metadata": {},
   "outputs": [],
   "source": [
    "df = pd.read_csv('textile_sales.csv')"
   ]
  },
  {
   "cell_type": "markdown",
   "id": "9e0175c8",
   "metadata": {},
   "source": [
    "### **Column Renaming: Making Things Clear**\n",
    "\n",
    "#### Why We Rename Columns\n",
    "\n",
    "Renaming columns helps make the data easier to understand and work with. Here’s what we changed:\n",
    "\n",
    "- **Expected_Payment → Expected_Payment_Date**: Shows this is a date\n",
    "- **Rate → Per_item_Rate(PKR/$)**: Tells us the currency and unit\n",
    "- **Dollar_Rate → Per_item_Rate($)**: Makes it clear this is in USD\n",
    "- **Bal → Balance**: Says exactly what it means\n",
    "- **Exchange → Exchange(PKR_to_$)**: Explains the conversion\n",
    "- **Received → Commission_after_Tax(PKR)**: Shows it’s the net commission\n",
    "\n",
    "These updates make the data more readable and connect the columns to real business terms, so analysis is smoother and more meaningful."
   ]
  },
  {
   "cell_type": "code",
   "execution_count": 4,
   "id": "15eb53a1",
   "metadata": {},
   "outputs": [
    {
     "name": "stdout",
     "output_type": "stream",
     "text": [
      "Column renaming completed!\n",
      "Dataset now has more intuitive and business-friendly column names\n"
     ]
    }
   ],
   "source": [
    "df = df.rename(columns={\n",
    "    'Expected_Payment': 'Expected_Payment_Date ',\n",
    "    'Rate': 'Per_item_Rate(PKR/$)',\n",
    "    'Dollar_Rate': 'Per_item_Rate($)',\n",
    "    'Bal': 'Balance',\n",
    "    'Exchange': 'Exchange(PKR_to_$)',\n",
    "    'Received': 'Commission_after_Tax(PKR) ',\n",
    "})\n",
    "\n",
    "print(\"Column renaming completed!\")\n",
    "print(\"Dataset now has more intuitive and business-friendly column names\")"
   ]
  },
  {
   "cell_type": "markdown",
   "id": "3a82672e",
   "metadata": {},
   "source": [
    "<h2 style=\"\n",
    "    font-family: 'Orbitron', monospace;\n",
    "    font-size: 3rem;\n",
    "    font-weight: 900;\n",
    "    background: linear-gradient(45deg, #00ffff, #0080ff, #8000ff, #ff0080);\n",
    "    background-size: 400% 400%;\n",
    "    -webkit-background-clip: text;\n",
    "    -webkit-text-fill-color: transparent;\n",
    "    background-clip: text;\n",
    "    animation: gradientShift 4s ease-in-out infinite;\n",
    "    margin-bottom: 30px;\n",
    "    text-shadow: 0 0 30px rgba(0, 255, 255, 0.5), 0 8px 32px #8000ff;\n",
    "    letter-spacing: 2px;\n",
    "    transition: all 0.6s cubic-bezier(0.4, 0, 0.2, 1);\n",
    "    display: inline-block;\n",
    "\">\n",
    "EDA (Exploratory Data Analysis)\n",
    "</h2>\n",
    "\n",
    "<style>\n",
    "@keyframes gradientShift {\n",
    "    0%, 100% { background-position: 0% 50%; }\n",
    "    50% { background-position: 100% 50%; }\n",
    "}\n",
    "</style>"
   ]
  },
  {
   "cell_type": "markdown",
   "id": "d1730e76",
   "metadata": {},
   "source": [
    "### **1. Data Cleaning – Laying the Groundwork**\n",
    "\n",
    "#### **What We're Doing:**\n",
    "We're starting by cleaning up the data to make sure it's accurate and ready for analysis. Good data is the key to getting useful results.\n",
    "\n",
    "### **Why Data Cleaning Matters:**\n",
    "- **Accuracy**: Clean data leads to better insights and predictions\n",
    "- **Consistency**: Standard formats make analysis easier\n",
    "- **Reliability**: Removing mistakes and odd values keeps results trustworthy\n",
    "- **Efficiency**: Well-organized data speeds up our work\n",
    "\n",
    "### **Managing Columns**\n",
    "#### **Removing Redundant Information**\n",
    "\n",
    "**Issue Found:** Some columns mean the same thing, so we can drop a few to keep things simple:\n",
    "\n",
    "**Redundant Columns:**\n",
    "- **`Per_item_Rate(PKR/$)` vs `Per_item_Rate($)`**: Both show item prices, just in different currencies. Since we have exchange rates, one is enough.\n",
    "- **`SW_After_Tax_Value` vs `SW_Rcvd_after_Tax`**: Both show the commission received after tax.\n",
    "\n",
    "**Why Remove Them:**\n",
    "- **Avoid Confusion**: Duplicate columns can confuse analysis and models\n",
    "- **Keep It Clear**: Fewer columns make results easier to understand\n",
    "- **Work Faster**: Less data means quicker processing\n",
    "\n",
    "> **Solution:** Keep the columns that are clear and useful, and remove the duplicates.\n"
   ]
  },
  {
   "cell_type": "code",
   "execution_count": 4,
   "id": "80f2c198",
   "metadata": {},
   "outputs": [
    {
     "name": "stdout",
     "output_type": "stream",
     "text": [
      " Redundant features removed successfully!\n",
      " Dataset size reduced from 26 to 24 columns\n",
      " Improved data quality and model readiness\n"
     ]
    }
   ],
   "source": [
    "df = df.drop(columns=[\n",
    "    'Per_item_Rate(PKR/$)',\n",
    "    'SW_After_Tax_Value',\n",
    "])\n",
    "\n",
    "print(\" Redundant features removed successfully!\")\n",
    "print(f\" Dataset size reduced from {df.shape[1] + 2} to {df.shape[1]} columns\")\n",
    "print(\" Improved data quality and model readiness\")"
   ]
  },
  {
   "cell_type": "markdown",
   "id": "096e1c08",
   "metadata": {},
   "source": [
    "#### **Check Types in the Categorical Features**"
   ]
  },
  {
   "cell_type": "code",
   "execution_count": 5,
   "id": "89628945",
   "metadata": {},
   "outputs": [
    {
     "data": {
      "text/html": [
       "<h4 style='color: #2a7ae2;'>Value counts for <b>Supplier</b>:</h4>"
      ],
      "text/plain": [
       "<IPython.core.display.HTML object>"
      ]
     },
     "metadata": {},
     "output_type": "display_data"
    },
    {
     "data": {
      "application/vnd.microsoft.datawrangler.viewer.v0+json": {
       "columns": [
        {
         "name": "index",
         "rawType": "int64",
         "type": "integer"
        },
        {
         "name": "Supplier",
         "rawType": "object",
         "type": "string"
        },
        {
         "name": "Count",
         "rawType": "int64",
         "type": "integer"
        }
       ],
       "ref": "854cbea2-620d-472e-a53f-89d78fa49fb8",
       "rows": [
        [
         "0",
         "SWU",
         "1443"
        ],
        [
         "1",
         "Samad Rubber",
         "363"
        ],
        [
         "2",
         "ASCO",
         "242"
        ],
        [
         "3",
         "AR Apparels",
         "208"
        ],
        [
         "4",
         "MR Industries",
         "150"
        ],
        [
         "5",
         "Rajby",
         "143"
        ],
        [
         "6",
         "Interloop",
         "127"
        ],
        [
         "7",
         "Haram Textile",
         "124"
        ],
        [
         "8",
         "Siddiqsons",
         "119"
        ],
        [
         "9",
         "Marfani",
         "118"
        ],
        [
         "10",
         "Kamal",
         "98"
        ],
        [
         "11",
         "Pak Denim",
         "84"
        ],
        [
         "12",
         "Indigo",
         "84"
        ],
        [
         "13",
         "Gul Ahmed",
         "83"
        ],
        [
         "14",
         "AFM",
         "82"
        ],
        [
         "15",
         "Rajby Textiles",
         "68"
        ],
        [
         "16",
         "Eastern",
         "58"
        ],
        [
         "17",
         "Amna Apparels",
         "57"
        ],
        [
         "18",
         "Umer faizan",
         "56"
        ],
        [
         "19",
         "Cotton Web",
         "52"
        ],
        [
         "20",
         "Azgard9",
         "52"
        ],
        [
         "21",
         "Hafeez Knitwear",
         "50"
        ],
        [
         "22",
         "Crown textile",
         "42"
        ],
        [
         "23",
         "Sheikh of Sialkot",
         "37"
        ],
        [
         "24",
         "ADM",
         "34"
        ],
        [
         "25",
         "Fazal industries",
         "31"
        ],
        [
         "26",
         "Shorts",
         "31"
        ],
        [
         "27",
         "Zahra Industries",
         "30"
        ],
        [
         "28",
         "Shorts Quality",
         "30"
        ],
        [
         "29",
         "Active Apparel",
         "28"
        ],
        [
         "30",
         "Shafi Apparel",
         "28"
        ],
        [
         "31",
         "ANM",
         "24"
        ],
        [
         "32",
         "Mekotex",
         "24"
        ],
        [
         "33",
         "Nishat Apparel",
         "24"
        ],
        [
         "34",
         "Ayesha",
         "22"
        ],
        [
         "35",
         "Denim plus",
         "22"
        ],
        [
         "36",
         "Linkotex",
         "21"
        ],
        [
         "37",
         "CrossFit",
         "21"
        ],
        [
         "38",
         "Master Textile",
         "21"
        ],
        [
         "39",
         "Fashion and Arts",
         "19"
        ],
        [
         "40",
         "JB industries",
         "19"
        ],
        [
         "41",
         "IL Knits",
         "18"
        ],
        [
         "42",
         "SM Denim",
         "16"
        ],
        [
         "43",
         "Gul ahmed knits",
         "15"
        ],
        [
         "44",
         "Lucky Textile",
         "14"
        ],
        [
         "45",
         "Azgard9 Denim",
         "13"
        ],
        [
         "46",
         "Glamour",
         "13"
        ],
        [
         "47",
         "Mustaqim",
         "12"
        ],
        [
         "48",
         "Kamal Limited",
         "12"
        ],
        [
         "49",
         "Union Denim",
         "12"
        ]
       ],
       "shape": {
        "columns": 2,
        "rows": 104
       }
      },
      "text/html": [
       "<div>\n",
       "<style scoped>\n",
       "    .dataframe tbody tr th:only-of-type {\n",
       "        vertical-align: middle;\n",
       "    }\n",
       "\n",
       "    .dataframe tbody tr th {\n",
       "        vertical-align: top;\n",
       "    }\n",
       "\n",
       "    .dataframe thead th {\n",
       "        text-align: right;\n",
       "    }\n",
       "</style>\n",
       "<table border=\"1\" class=\"dataframe\">\n",
       "  <thead>\n",
       "    <tr style=\"text-align: right;\">\n",
       "      <th></th>\n",
       "      <th>Supplier</th>\n",
       "      <th>Count</th>\n",
       "    </tr>\n",
       "  </thead>\n",
       "  <tbody>\n",
       "    <tr>\n",
       "      <th>0</th>\n",
       "      <td>SWU</td>\n",
       "      <td>1443</td>\n",
       "    </tr>\n",
       "    <tr>\n",
       "      <th>1</th>\n",
       "      <td>Samad Rubber</td>\n",
       "      <td>363</td>\n",
       "    </tr>\n",
       "    <tr>\n",
       "      <th>2</th>\n",
       "      <td>ASCO</td>\n",
       "      <td>242</td>\n",
       "    </tr>\n",
       "    <tr>\n",
       "      <th>3</th>\n",
       "      <td>AR Apparels</td>\n",
       "      <td>208</td>\n",
       "    </tr>\n",
       "    <tr>\n",
       "      <th>4</th>\n",
       "      <td>MR Industries</td>\n",
       "      <td>150</td>\n",
       "    </tr>\n",
       "    <tr>\n",
       "      <th>...</th>\n",
       "      <td>...</td>\n",
       "      <td>...</td>\n",
       "    </tr>\n",
       "    <tr>\n",
       "      <th>99</th>\n",
       "      <td>Sportler</td>\n",
       "      <td>1</td>\n",
       "    </tr>\n",
       "    <tr>\n",
       "      <th>100</th>\n",
       "      <td>CW</td>\n",
       "      <td>1</td>\n",
       "    </tr>\n",
       "    <tr>\n",
       "      <th>101</th>\n",
       "      <td>Union</td>\n",
       "      <td>1</td>\n",
       "    </tr>\n",
       "    <tr>\n",
       "      <th>102</th>\n",
       "      <td>Delta</td>\n",
       "      <td>1</td>\n",
       "    </tr>\n",
       "    <tr>\n",
       "      <th>103</th>\n",
       "      <td>Artistic</td>\n",
       "      <td>1</td>\n",
       "    </tr>\n",
       "  </tbody>\n",
       "</table>\n",
       "<p>104 rows × 2 columns</p>\n",
       "</div>"
      ],
      "text/plain": [
       "          Supplier  Count\n",
       "0              SWU   1443\n",
       "1     Samad Rubber    363\n",
       "2             ASCO    242\n",
       "3      AR Apparels    208\n",
       "4    MR Industries    150\n",
       "..             ...    ...\n",
       "99        Sportler      1\n",
       "100             CW      1\n",
       "101          Union      1\n",
       "102          Delta      1\n",
       "103       Artistic      1\n",
       "\n",
       "[104 rows x 2 columns]"
      ]
     },
     "metadata": {},
     "output_type": "display_data"
    },
    {
     "data": {
      "text/html": [
       "<h4 style='color: #2a7ae2;'>Value counts for <b>Customer</b>:</h4>"
      ],
      "text/plain": [
       "<IPython.core.display.HTML object>"
      ]
     },
     "metadata": {},
     "output_type": "display_data"
    },
    {
     "data": {
      "application/vnd.microsoft.datawrangler.viewer.v0+json": {
       "columns": [
        {
         "name": "index",
         "rawType": "int64",
         "type": "integer"
        },
        {
         "name": "Customer",
         "rawType": "object",
         "type": "string"
        },
        {
         "name": "Count",
         "rawType": "int64",
         "type": "integer"
        }
       ],
       "ref": "f29c061d-5d83-4f42-bfd7-8d5372e4161c",
       "rows": [
        [
         "0",
         "Tiffosi",
         "1257"
        ],
        [
         "1",
         "Takko",
         "825"
        ],
        [
         "2",
         "Takko Knit",
         "487"
        ],
        [
         "3",
         "Takko Fab",
         "439"
        ],
        [
         "4",
         "Authentic Style knits",
         "251"
        ],
        [
         "5",
         "Vilanova",
         "213"
        ],
        [
         "6",
         "Tiffosi Fab",
         "203"
        ],
        [
         "7",
         "Minoti",
         "131"
        ],
        [
         "8",
         "Blue Steel",
         "69"
        ],
        [
         "9",
         "Jennyfer",
         "67"
        ],
        [
         "10",
         "Reporter Young Knit",
         "66"
        ],
        [
         "11",
         "Authentic Style Denim",
         "59"
        ],
        [
         "12",
         "SDV-Knits",
         "54"
        ],
        [
         "13",
         "Reporter Young",
         "54"
        ],
        [
         "14",
         "Fortdress",
         "49"
        ],
        [
         "15",
         "Bizzbee",
         "45"
        ],
        [
         "16",
         "Piazza Italia",
         "41"
        ],
        [
         "17",
         "Get Over",
         "26"
        ],
        [
         "18",
         "Pink Woman Denim",
         "25"
        ],
        [
         "19",
         "Tiffosi fab",
         "24"
        ],
        [
         "20",
         "Punt Roma",
         "23"
        ],
        [
         "21",
         "Carisma",
         "23"
        ],
        [
         "22",
         "Dimotex",
         "21"
        ],
        [
         "23",
         "CDRL",
         "19"
        ],
        [
         "24",
         "Altex",
         "16"
        ],
        [
         "25",
         "Noppies Kids",
         "15"
        ],
        [
         "26",
         "SDV",
         "15"
        ],
        [
         "27",
         "YOUCOM",
         "14"
        ],
        [
         "28",
         "Moodo",
         "13"
        ],
        [
         "29",
         "Jennyfer Fab",
         "12"
        ],
        [
         "30",
         "Takko socks",
         "12"
        ],
        [
         "31",
         "Sanetta",
         "11"
        ],
        [
         "32",
         "Boston",
         "10"
        ],
        [
         "33",
         "Tiffosi Knit",
         "10"
        ],
        [
         "34",
         "Vilanova Fab",
         "10"
        ],
        [
         "35",
         "Pink Woman Fab",
         "8"
        ],
        [
         "36",
         "Encuentro Moda",
         "7"
        ],
        [
         "37",
         "S & P Casual",
         "6"
        ],
        [
         "38",
         "Chicoree",
         "6"
        ],
        [
         "39",
         "Noppies Fab",
         "5"
        ],
        [
         "40",
         "Carry",
         "5"
        ],
        [
         "41",
         "Sanetta Fab",
         "5"
        ],
        [
         "42",
         "Lee Cooper",
         "5"
        ],
        [
         "43",
         "Reporter Young Fab",
         "4"
        ],
        [
         "44",
         "Authentic Fab",
         "4"
        ],
        [
         "45",
         "Noppies Maternity",
         "4"
        ],
        [
         "46",
         "Gerry Weber",
         "4"
        ],
        [
         "47",
         "Ripping",
         "3"
        ],
        [
         "48",
         "Tiffosi knit",
         "3"
        ],
        [
         "49",
         "Get over",
         "3"
        ]
       ],
       "shape": {
        "columns": 2,
        "rows": 81
       }
      },
      "text/html": [
       "<div>\n",
       "<style scoped>\n",
       "    .dataframe tbody tr th:only-of-type {\n",
       "        vertical-align: middle;\n",
       "    }\n",
       "\n",
       "    .dataframe tbody tr th {\n",
       "        vertical-align: top;\n",
       "    }\n",
       "\n",
       "    .dataframe thead th {\n",
       "        text-align: right;\n",
       "    }\n",
       "</style>\n",
       "<table border=\"1\" class=\"dataframe\">\n",
       "  <thead>\n",
       "    <tr style=\"text-align: right;\">\n",
       "      <th></th>\n",
       "      <th>Customer</th>\n",
       "      <th>Count</th>\n",
       "    </tr>\n",
       "  </thead>\n",
       "  <tbody>\n",
       "    <tr>\n",
       "      <th>0</th>\n",
       "      <td>Tiffosi</td>\n",
       "      <td>1257</td>\n",
       "    </tr>\n",
       "    <tr>\n",
       "      <th>1</th>\n",
       "      <td>Takko</td>\n",
       "      <td>825</td>\n",
       "    </tr>\n",
       "    <tr>\n",
       "      <th>2</th>\n",
       "      <td>Takko Knit</td>\n",
       "      <td>487</td>\n",
       "    </tr>\n",
       "    <tr>\n",
       "      <th>3</th>\n",
       "      <td>Takko Fab</td>\n",
       "      <td>439</td>\n",
       "    </tr>\n",
       "    <tr>\n",
       "      <th>4</th>\n",
       "      <td>Authentic Style knits</td>\n",
       "      <td>251</td>\n",
       "    </tr>\n",
       "    <tr>\n",
       "      <th>...</th>\n",
       "      <td>...</td>\n",
       "      <td>...</td>\n",
       "    </tr>\n",
       "    <tr>\n",
       "      <th>76</th>\n",
       "      <td>Jomo Fashion</td>\n",
       "      <td>1</td>\n",
       "    </tr>\n",
       "    <tr>\n",
       "      <th>77</th>\n",
       "      <td>Coccodrillo</td>\n",
       "      <td>1</td>\n",
       "    </tr>\n",
       "    <tr>\n",
       "      <th>78</th>\n",
       "      <td>Big Star Fab</td>\n",
       "      <td>1</td>\n",
       "    </tr>\n",
       "    <tr>\n",
       "      <th>79</th>\n",
       "      <td>Bizbee</td>\n",
       "      <td>1</td>\n",
       "    </tr>\n",
       "    <tr>\n",
       "      <th>80</th>\n",
       "      <td>Big Star</td>\n",
       "      <td>1</td>\n",
       "    </tr>\n",
       "  </tbody>\n",
       "</table>\n",
       "<p>81 rows × 2 columns</p>\n",
       "</div>"
      ],
      "text/plain": [
       "                 Customer  Count\n",
       "0                 Tiffosi   1257\n",
       "1                   Takko    825\n",
       "2              Takko Knit    487\n",
       "3               Takko Fab    439\n",
       "4   Authentic Style knits    251\n",
       "..                    ...    ...\n",
       "76           Jomo Fashion      1\n",
       "77            Coccodrillo      1\n",
       "78           Big Star Fab      1\n",
       "79                 Bizbee      1\n",
       "80               Big Star      1\n",
       "\n",
       "[81 rows x 2 columns]"
      ]
     },
     "metadata": {},
     "output_type": "display_data"
    },
    {
     "data": {
      "text/html": [
       "<h4 style='color: #2a7ae2;'>Value counts for <b>Style_Name</b>:</h4>"
      ],
      "text/plain": [
       "<IPython.core.display.HTML object>"
      ]
     },
     "metadata": {},
     "output_type": "display_data"
    },
    {
     "data": {
      "application/vnd.microsoft.datawrangler.viewer.v0+json": {
       "columns": [
        {
         "name": "index",
         "rawType": "int64",
         "type": "integer"
        },
        {
         "name": "Style_Name",
         "rawType": "object",
         "type": "string"
        },
        {
         "name": "Count",
         "rawType": "int64",
         "type": "integer"
        }
       ],
       "ref": "251298cc-6276-4dd3-b831-434693d96e77",
       "rows": [
        [
         "0",
         "TKMEN",
         "321"
        ],
        [
         "1",
         "TKLAD",
         "299"
        ],
        [
         "2",
         "TKKID",
         "152"
        ],
        [
         "3",
         "TKMND",
         "40"
        ],
        [
         "4",
         "E-5124F-Blue, 10.5 Oz, 3/1 RHT, Rain Stretch, 55/56\"",
         "37"
        ],
        [
         "5",
         "3024-2 BOT",
         "26"
        ],
        [
         "6",
         "V 0008 27.8/FOD",
         "24"
        ],
        [
         "7",
         "Moloko",
         "23"
        ],
        [
         "8",
         "Harrow",
         "22"
        ],
        [
         "9",
         "Leo_91",
         "22"
        ],
        [
         "10",
         "IDS-5759 NC",
         "21"
        ],
        [
         "11",
         "BSU_FW21_MLT_0003",
         "20"
        ],
        [
         "12",
         "Leo_90",
         "19"
        ],
        [
         "13",
         "Liam_40",
         "18"
        ],
        [
         "14",
         "Brody_222",
         "17"
        ],
        [
         "15",
         "ANM-023",
         "17"
        ],
        [
         "16",
         "Liam_39",
         "16"
        ],
        [
         "17",
         "Az-6139, Bruton Fit, 7 Oz, 50.5\", 3/1 RHT",
         "15"
        ],
        [
         "18",
         "BSBI19_JOGGER",
         "14"
        ],
        [
         "19",
         "TKLND",
         "13"
        ],
        [
         "20",
         "fortd Long Sleeve",
         "13"
        ],
        [
         "21",
         "SHORT SLIM_5",
         "12"
        ],
        [
         "22",
         "Harry_H51",
         "12"
        ],
        [
         "23",
         "AZ-6139",
         "12"
        ],
        [
         "24",
         "DS-9296 / AH-6620, 4/1Satin, Black / Blue, 57\", 80 C 19 P 1 E",
         "11"
        ],
        [
         "25",
         "Harry_H53",
         "11"
        ],
        [
         "26",
         "3024-2, 10.50, 3/1 RHT, Ring Slub Stretch, 57/58\"",
         "11"
        ],
        [
         "27",
         "GOF_FW21_JQT_0015",
         "11"
        ],
        [
         "28",
         "GOF_FW21_CAP_0003",
         "11"
        ],
        [
         "29",
         "Pegu",
         "11"
        ],
        [
         "30",
         "Liam_269",
         "11"
        ],
        [
         "31",
         "Liam_145",
         "11"
        ],
        [
         "32",
         "fortdLong Sleeve",
         "10"
        ],
        [
         "33",
         "D-4091, 9.5 Oz, 57/58\", Cotton Stretch, 3/1 RHT, Blue",
         "10"
        ],
        [
         "34",
         "Boys",
         "9"
        ],
        [
         "35",
         "A4-13406-PDM-01(A4-8635/PDM-01), 84C 14P 2E, 10.25Oz, 48/47\", 3/1 RHT",
         "9"
        ],
        [
         "36",
         "Brody_276",
         "9"
        ],
        [
         "37",
         "JOE_54",
         "8"
        ],
        [
         "38",
         "MD-0037-12",
         "8"
        ],
        [
         "39",
         "DOUBLE_UP_460",
         "8"
        ],
        [
         "40",
         "DS-9296",
         "8"
        ],
        [
         "41",
         "Ladies Basic Sweatshirt",
         "8"
        ],
        [
         "42",
         "A4-8716, 78%CONV C5% RE C,16%P,1%E,10.75 Oz, 3/1 RHT, 59/60\" Royal Blue(M-335)",
         "8"
        ],
        [
         "43",
         "EMMA_157",
         "8"
        ],
        [
         "44",
         "BSB_FW21_MLT_0001",
         "8"
        ],
        [
         "45",
         "Takko socks",
         "8"
        ],
        [
         "46",
         "AZ-2000, 99C 1E, 10.25Oz, 3/1RHT, 61\", BLUE",
         "8"
        ],
        [
         "47",
         "13 DESY",
         "7"
        ],
        [
         "48",
         "John_285",
         "7"
        ],
        [
         "49",
         "Leo_92",
         "7"
        ]
       ],
       "shape": {
        "columns": 2,
        "rows": 2468
       }
      },
      "text/html": [
       "<div>\n",
       "<style scoped>\n",
       "    .dataframe tbody tr th:only-of-type {\n",
       "        vertical-align: middle;\n",
       "    }\n",
       "\n",
       "    .dataframe tbody tr th {\n",
       "        vertical-align: top;\n",
       "    }\n",
       "\n",
       "    .dataframe thead th {\n",
       "        text-align: right;\n",
       "    }\n",
       "</style>\n",
       "<table border=\"1\" class=\"dataframe\">\n",
       "  <thead>\n",
       "    <tr style=\"text-align: right;\">\n",
       "      <th></th>\n",
       "      <th>Style_Name</th>\n",
       "      <th>Count</th>\n",
       "    </tr>\n",
       "  </thead>\n",
       "  <tbody>\n",
       "    <tr>\n",
       "      <th>0</th>\n",
       "      <td>TKMEN</td>\n",
       "      <td>321</td>\n",
       "    </tr>\n",
       "    <tr>\n",
       "      <th>1</th>\n",
       "      <td>TKLAD</td>\n",
       "      <td>299</td>\n",
       "    </tr>\n",
       "    <tr>\n",
       "      <th>2</th>\n",
       "      <td>TKKID</td>\n",
       "      <td>152</td>\n",
       "    </tr>\n",
       "    <tr>\n",
       "      <th>3</th>\n",
       "      <td>TKMND</td>\n",
       "      <td>40</td>\n",
       "    </tr>\n",
       "    <tr>\n",
       "      <th>4</th>\n",
       "      <td>E-5124F-Blue, 10.5 Oz, 3/1 RHT, Rain Stretch, ...</td>\n",
       "      <td>37</td>\n",
       "    </tr>\n",
       "    <tr>\n",
       "      <th>...</th>\n",
       "      <td>...</td>\n",
       "      <td>...</td>\n",
       "    </tr>\n",
       "    <tr>\n",
       "      <th>2463</th>\n",
       "      <td>E-5124 FOD/OB</td>\n",
       "      <td>1</td>\n",
       "    </tr>\n",
       "    <tr>\n",
       "      <th>2464</th>\n",
       "      <td>Zoe_25</td>\n",
       "      <td>1</td>\n",
       "    </tr>\n",
       "    <tr>\n",
       "      <th>2465</th>\n",
       "      <td>Zoe_24</td>\n",
       "      <td>1</td>\n",
       "    </tr>\n",
       "    <tr>\n",
       "      <th>2466</th>\n",
       "      <td>John_K363</td>\n",
       "      <td>1</td>\n",
       "    </tr>\n",
       "    <tr>\n",
       "      <th>2467</th>\n",
       "      <td>D10608BC02802A1NO(Repeat)</td>\n",
       "      <td>1</td>\n",
       "    </tr>\n",
       "  </tbody>\n",
       "</table>\n",
       "<p>2468 rows × 2 columns</p>\n",
       "</div>"
      ],
      "text/plain": [
       "                                             Style_Name  Count\n",
       "0                                                 TKMEN    321\n",
       "1                                                 TKLAD    299\n",
       "2                                                 TKKID    152\n",
       "3                                                 TKMND     40\n",
       "4     E-5124F-Blue, 10.5 Oz, 3/1 RHT, Rain Stretch, ...     37\n",
       "...                                                 ...    ...\n",
       "2463                                      E-5124 FOD/OB      1\n",
       "2464                                             Zoe_25      1\n",
       "2465                                             Zoe_24      1\n",
       "2466                                          John_K363      1\n",
       "2467                          D10608BC02802A1NO(Repeat)      1\n",
       "\n",
       "[2468 rows x 2 columns]"
      ]
     },
     "metadata": {},
     "output_type": "display_data"
    }
   ],
   "source": [
    "columns = ['Supplier','Customer','Style_Name']\n",
    "\n",
    "for col in columns:\n",
    "    display(HTML(f\"<h4 style='color: #2a7ae2;'>Value counts for <b>{col}</b>:</h4>\"))\n",
    "    vc = df[col].value_counts().reset_index()\n",
    "    vc.columns = [col, 'Count']\n",
    "    display(vc)"
   ]
  },
  {
   "cell_type": "markdown",
   "id": "d6955054",
   "metadata": {},
   "source": [
    "### **Spotting Outliers and Checking for Errors**\n",
    "\n",
    "#### **What We're Doing:**\n",
    "We're looking for numbers in the data that don't make sense or break business rules, and then removing them.\n",
    "\n",
    "**How We Do It:**\n",
    "1. **Check the Stats**: Find values that look odd or stand out\n",
    "2. **Use Business Know-How**: Make sure numbers fit real-world expectations\n",
    "3. **See the Impact**: Understand how strange values could mess up our results\n",
    "4. **Remove Only the Mistakes**: Delete clear errors, but keep unusual cases that might be real\n",
    "\n",
    "**Why This Is Important:**\n",
    "- **Better Predictions**: Outliers can throw off our models\n",
    "- **Smarter Decisions**: Bad data leads to bad business choices\n",
    "- **Trustworthy Results**: Clean data means our reports and metrics are reliable\n",
    "\n",
    "___"
   ]
  },
  {
   "cell_type": "markdown",
   "id": "a9447b4d",
   "metadata": {},
   "source": [
    "**Drop rows where Per_item_Rate($) is less than 0**"
   ]
  },
  {
   "cell_type": "code",
   "execution_count": 6,
   "id": "204947ad",
   "metadata": {},
   "outputs": [
    {
     "name": "stdout",
     "output_type": "stream",
     "text": [
      "Negative item rates removed successfully!\n"
     ]
    }
   ],
   "source": [
    "df = df[df['Per_item_Rate($)'] >= 0]\n",
    "print(\"Negative item rates removed successfully!\")"
   ]
  },
  {
   "cell_type": "markdown",
   "id": "daecadc5",
   "metadata": {},
   "source": [
    "**Drop rows where Contract_Qty. is less than 0**"
   ]
  },
  {
   "cell_type": "code",
   "execution_count": 7,
   "id": "760f523a",
   "metadata": {},
   "outputs": [
    {
     "name": "stdout",
     "output_type": "stream",
     "text": [
      "Negative contract quantities also removed successfully!\n"
     ]
    }
   ],
   "source": [
    "df = df[df['Contract_Qty.'] >= 0]\n",
    "print(\"Negative contract quantities also removed successfully!\")"
   ]
  },
  {
   "cell_type": "markdown",
   "id": "c074e31b",
   "metadata": {},
   "source": [
    "### **Checking Exchange Rates: Making Sure the Data Makes Sense**\n",
    "\n",
    "#### **Why We Look at Exchange Rates:**\n",
    "\n",
    "**Business Reality:**\n",
    "- **Normal Range**: The US dollar usually trades between 100 and 300 PKR\n",
    "- **History Check**: Even in tough times, rates don’t go way outside this range\n",
    "- **Data Quality**: If we see numbers far above or below this, it’s probably a mistake\n",
    "\n",
    "**How We Keep Data Clean:**\n",
    "1. **Spot Weird Numbers**: Find exchange rates that don’t fit the usual pattern\n",
    "2. **Think It Through**: Decide if it’s a real case or just a typo\n",
    "3. **Fix the Problem**: Remove obvious errors, and double-check anything unusual\n",
    "\n",
    "### **Why This Matters:**\n",
    "- Helps us trust our analysis and reports\n",
    "- Makes sure our business decisions are based on real numbers\n",
    "- Keeps our models and predictions accurate"
   ]
  },
  {
   "cell_type": "code",
   "execution_count": 8,
   "id": "4574ffde",
   "metadata": {},
   "outputs": [],
   "source": [
    "# Check the rows where the Dollar_Exchange_Rate is greater than 1\n",
    "Exchange_Rate =df[df['Dollar_Exchange_Rate'] > 1]"
   ]
  },
  {
   "cell_type": "markdown",
   "id": "43ee4139",
   "metadata": {},
   "source": [
    "### **Exchange Rate Outlier: Value = 155**\n",
    "\n",
    "**What We Found:**\n",
    "- There’s just one row where `Dollar_Exchange_Rate` is 155.\n",
    "- This is a clear mistake—exchange rates should be small numbers like 0.0033 (for 300 PKR/USD).\n",
    "\n",
    "**Why It’s Wrong:**\n",
    "1. **Doesn’t Make Sense**: It would mean 1 PKR equals 155 USD, which is impossible.\n",
    "2. **History Check**: The PKR has never been stronger than the USD.\n",
    "3. **Data Consistency**: All other exchange rates look normal.\n",
    "\n",
    "**Why Remove It:**\n",
    "- It’s only one row, so we lose almost nothing.\n",
    "- Removing it keeps our calculations and reports accurate.\n",
    "- It stops our models from learning the wrong thing.\n",
    "\n",
    "**Action:** We’ll delete this row to keep our data clean and reliable.\n"
   ]
  },
  {
   "cell_type": "code",
   "execution_count": 9,
   "id": "0db0dce2",
   "metadata": {},
   "outputs": [],
   "source": [
    "df = df[df['Dollar_Exchange_Rate'] <= 1]"
   ]
  },
  {
   "cell_type": "markdown",
   "id": "239d45eb",
   "metadata": {},
   "source": [
    "**Dollar-Value Analysis** : Based on historical data, it has never occurred that the value of the US dollar dropped below 100 PKR during the time period covered by this dataset.\n",
    "\n",
    "Drop the enteties that are below 100"
   ]
  },
  {
   "cell_type": "code",
   "execution_count": 10,
   "id": "ae597bcb",
   "metadata": {},
   "outputs": [
    {
     "name": "stdout",
     "output_type": "stream",
     "text": [
      "Exchange rates below 100 PKR per USD removed successfully!\n"
     ]
    }
   ],
   "source": [
    "df = df[df['Exchange(PKR_to_$)'] >= 100]\n",
    "print(\"Exchange rates below 100 PKR per USD removed successfully!\")"
   ]
  },
  {
   "cell_type": "markdown",
   "id": "2bafb9c0",
   "metadata": {},
   "source": [
    "**Commission Analysis** : Getting the negative commission values"
   ]
  },
  {
   "cell_type": "code",
   "execution_count": 11,
   "id": "ed36e61f",
   "metadata": {},
   "outputs": [],
   "source": [
    "negative_commission_df = df[(df['Commission_Dollar_Value'] < 0) |\n",
    "                            (df['Commission_Percentage'] < 0) |\n",
    "                            (df['Commission_PKR_Value'] < 0) |\n",
    "                            (df['Commission_SW_Percentage'] < 0) |\n",
    "                            (df['SW_Rcvd_after_Tax'] < 0)]"
   ]
  },
  {
   "cell_type": "markdown",
   "id": "d4737331",
   "metadata": {},
   "source": [
    "### **Commission Value Errors: What’s Going On?**\n",
    "\n",
    "**What We Found:**  \n",
    "Some rows have negative commission values in different columns.\n",
    "\n",
    "**Examples:**  \n",
    "- One row shows `Commission_Dollar_Value` as -208 (should be +208)  \n",
    "- Another has `Commission_PKR_Value` as -34,055 (should be +34,055)  \n",
    "- This looks like a pattern—sign errors during data entry\n",
    "\n",
    "**Why This Is a Problem:**  \n",
    "- **Commissions are earnings**—they should always be positive  \n",
    "- **Negative commissions** would mean the company is paying out, which doesn’t fit the business  \n",
    "- Other related fields for the same deals show positive values\n",
    "\n",
    "**Possible Reasons:**  \n",
    "- Manual entry mistakes  \n",
    "- Issues when importing data  \n",
    "- Calculation errors in the original system\n",
    "\n",
    "**How It Hurts Our Analysis:**  \n",
    "- Skews averages and totals  \n",
    "- Confuses machine learning models  \n",
    "- Gives a false picture of profits\n",
    "\n",
    "**What We’ll Do:**  \n",
    "We’ll remove these rows to keep our data accurate. Since we don’t have enough info to fix the numbers, deleting them is the safest option."
   ]
  },
  {
   "cell_type": "code",
   "execution_count": 12,
   "id": "dbd22ba1",
   "metadata": {},
   "outputs": [
    {
     "name": "stdout",
     "output_type": "stream",
     "text": [
      "Data cleaning completed successfully!\n"
     ]
    }
   ],
   "source": [
    "df = df[(df['Commission_Dollar_Value'] >= 0) &\n",
    "        (df['Commission_Percentage'] >= 0) &\n",
    "        (df['Commission_PKR_Value'] >= 0) &\n",
    "        (df['Commission_SW_Percentage'] >= 0) &\n",
    "        (df['SW_Rcvd_after_Tax'] >= 0)]\n",
    "\n",
    "# Display the cleaned DataFrame\n",
    "print(\"Data cleaning completed successfully!\")\n"
   ]
  },
  {
   "cell_type": "markdown",
   "id": "2dc8f7ce",
   "metadata": {},
   "source": [
    "### **Duplicate Row Analysis: Why It Matters**\n",
    "\n",
    "#### **How Duplicates Happen in Business Data**\n",
    "\n",
    "**Common Reasons for Duplicate Records:**\n",
    "1. **System Sync Issues**: Data gets copied from different systems\n",
    "2. **Manual Entry Mistakes**: Someone enters the same info twice\n",
    "3. **Reporting Overlap**: The same deal shows up in more than one report\n",
    "4. **Data Transfers**: Errors when moving data between systems\n",
    "5. **API Problems**: Multiple updates create extra records\n",
    "\n",
    "**Why Duplicates Are a Problem:**\n",
    "- **Numbers Look Bigger Than They Are**: Sales and commissions get counted twice\n",
    "- **Analysis Gets Confusing**: We might make wrong decisions based on bad data\n",
    "- **Machine Learning Struggles**: Models learn from repeated info, which isn’t helpful\n",
    "- **Wasted Resources**: Time and money go to the wrong places\n",
    "\n",
    "**How We Find Duplicates:**\n",
    "- **Exact Match**: Look for rows where every column is the same\n",
    "- **Business Check**: Make sure duplicates aren’t real deals\n",
    "- **Time Review**: See if duplicates happen at the same time\n",
    "\n",
    "**What We Do:**  \n",
    "We drop duplicate rows to keep our data clean and our results trustworthy."
   ]
  },
  {
   "cell_type": "code",
   "execution_count": 13,
   "id": "1dc86fba",
   "metadata": {},
   "outputs": [
    {
     "name": "stdout",
     "output_type": "stream",
     "text": [
      "Duplicate rows found:\n"
     ]
    },
    {
     "data": {
      "application/vnd.microsoft.datawrangler.viewer.v0+json": {
       "columns": [
        {
         "name": "index",
         "rawType": "int64",
         "type": "integer"
        },
        {
         "name": "Team_Head",
         "rawType": "object",
         "type": "string"
        },
        {
         "name": "Supplier",
         "rawType": "object",
         "type": "string"
        },
        {
         "name": "Customer",
         "rawType": "object",
         "type": "string"
        },
        {
         "name": "Contract_Date",
         "rawType": "object",
         "type": "string"
        },
        {
         "name": "Dispatch_Date",
         "rawType": "object",
         "type": "string"
        },
        {
         "name": "Payment_Days",
         "rawType": "object",
         "type": "string"
        },
        {
         "name": "Expected_Payment_Date ",
         "rawType": "object",
         "type": "string"
        },
        {
         "name": "Style_Name",
         "rawType": "object",
         "type": "string"
        },
        {
         "name": "Dollar_Exchange_Rate",
         "rawType": "float64",
         "type": "float"
        },
        {
         "name": "Per_item_Rate($)",
         "rawType": "float64",
         "type": "float"
        },
        {
         "name": "Contract_#",
         "rawType": "object",
         "type": "string"
        },
        {
         "name": "Contract_Qty.",
         "rawType": "float64",
         "type": "float"
        },
        {
         "name": "Shipped_Quantity",
         "rawType": "float64",
         "type": "float"
        },
        {
         "name": "Balance",
         "rawType": "float64",
         "type": "float"
        },
        {
         "name": "Sales_Volume",
         "rawType": "object",
         "type": "string"
        },
        {
         "name": "Exchange(PKR_to_$)",
         "rawType": "float64",
         "type": "float"
        },
        {
         "name": "Commission_Dollar_Value",
         "rawType": "float64",
         "type": "float"
        },
        {
         "name": "Commission_Percentage",
         "rawType": "float64",
         "type": "float"
        },
        {
         "name": "Commission_PKR_Value",
         "rawType": "float64",
         "type": "float"
        },
        {
         "name": "Commission_SW_Percentage",
         "rawType": "float64",
         "type": "float"
        },
        {
         "name": "SW_Commission_PKR",
         "rawType": "object",
         "type": "string"
        },
        {
         "name": "Tax_%",
         "rawType": "object",
         "type": "string"
        },
        {
         "name": "Commission_after_Tax(PKR) ",
         "rawType": "object",
         "type": "string"
        },
        {
         "name": "SW_Rcvd_after_Tax",
         "rawType": "float64",
         "type": "float"
        }
       ],
       "ref": "13c3f8ee-0a88-4fed-b8a7-cfee427d2b11",
       "rows": [
        [
         "2182",
         "Muneeb",
         "Siddiqsons",
         "Takko Fab",
         "2022-01-14 00:00:00",
         "2023-10-31 00:00:00",
         "60",
         "2023-12-30 00:00:00",
         "DS-9359",
         "0.0063",
         "3.44",
         "20006040",
         "21500.0",
         "21500.0",
         "0.0",
         "74041",
         "160.0",
         "1480.81",
         "0.02",
         "236930.0",
         "0.008",
         "94772",
         "0.12",
         "208498",
         "83399.2"
        ],
        [
         "3889",
         "SWU",
         "Pak Denim",
         "Tiffosi Fab",
         "2024-02-12 00:00:00",
         "2024-07-03 00:00:00",
         "60",
         "2024-09-01 00:00:00",
         "PD-3023",
         "0.004",
         "2.46",
         "PDM/24-3505",
         "6600.0",
         "6600.0",
         "0.0",
         "16236",
         "250.0",
         "324.72",
         "0.02",
         "81180.0",
         "0.008",
         "32472",
         "0.12",
         "71438",
         "28575.0"
        ]
       ],
       "shape": {
        "columns": 24,
        "rows": 2
       }
      },
      "text/html": [
       "<div>\n",
       "<style scoped>\n",
       "    .dataframe tbody tr th:only-of-type {\n",
       "        vertical-align: middle;\n",
       "    }\n",
       "\n",
       "    .dataframe tbody tr th {\n",
       "        vertical-align: top;\n",
       "    }\n",
       "\n",
       "    .dataframe thead th {\n",
       "        text-align: right;\n",
       "    }\n",
       "</style>\n",
       "<table border=\"1\" class=\"dataframe\">\n",
       "  <thead>\n",
       "    <tr style=\"text-align: right;\">\n",
       "      <th></th>\n",
       "      <th>Team_Head</th>\n",
       "      <th>Supplier</th>\n",
       "      <th>Customer</th>\n",
       "      <th>Contract_Date</th>\n",
       "      <th>Dispatch_Date</th>\n",
       "      <th>Payment_Days</th>\n",
       "      <th>Expected_Payment_Date</th>\n",
       "      <th>Style_Name</th>\n",
       "      <th>Dollar_Exchange_Rate</th>\n",
       "      <th>Per_item_Rate($)</th>\n",
       "      <th>...</th>\n",
       "      <th>Sales_Volume</th>\n",
       "      <th>Exchange(PKR_to_$)</th>\n",
       "      <th>Commission_Dollar_Value</th>\n",
       "      <th>Commission_Percentage</th>\n",
       "      <th>Commission_PKR_Value</th>\n",
       "      <th>Commission_SW_Percentage</th>\n",
       "      <th>SW_Commission_PKR</th>\n",
       "      <th>Tax_%</th>\n",
       "      <th>Commission_after_Tax(PKR)</th>\n",
       "      <th>SW_Rcvd_after_Tax</th>\n",
       "    </tr>\n",
       "  </thead>\n",
       "  <tbody>\n",
       "    <tr>\n",
       "      <th>2182</th>\n",
       "      <td>Muneeb</td>\n",
       "      <td>Siddiqsons</td>\n",
       "      <td>Takko Fab</td>\n",
       "      <td>2022-01-14 00:00:00</td>\n",
       "      <td>2023-10-31 00:00:00</td>\n",
       "      <td>60</td>\n",
       "      <td>2023-12-30 00:00:00</td>\n",
       "      <td>DS-9359</td>\n",
       "      <td>0.0063</td>\n",
       "      <td>3.44</td>\n",
       "      <td>...</td>\n",
       "      <td>74041</td>\n",
       "      <td>160.0</td>\n",
       "      <td>1480.81</td>\n",
       "      <td>0.02</td>\n",
       "      <td>236930.0</td>\n",
       "      <td>0.008</td>\n",
       "      <td>94772</td>\n",
       "      <td>0.12</td>\n",
       "      <td>208498</td>\n",
       "      <td>83399.2</td>\n",
       "    </tr>\n",
       "    <tr>\n",
       "      <th>3889</th>\n",
       "      <td>SWU</td>\n",
       "      <td>Pak Denim</td>\n",
       "      <td>Tiffosi Fab</td>\n",
       "      <td>2024-02-12 00:00:00</td>\n",
       "      <td>2024-07-03 00:00:00</td>\n",
       "      <td>60</td>\n",
       "      <td>2024-09-01 00:00:00</td>\n",
       "      <td>PD-3023</td>\n",
       "      <td>0.0040</td>\n",
       "      <td>2.46</td>\n",
       "      <td>...</td>\n",
       "      <td>16236</td>\n",
       "      <td>250.0</td>\n",
       "      <td>324.72</td>\n",
       "      <td>0.02</td>\n",
       "      <td>81180.0</td>\n",
       "      <td>0.008</td>\n",
       "      <td>32472</td>\n",
       "      <td>0.12</td>\n",
       "      <td>71438</td>\n",
       "      <td>28575.0</td>\n",
       "    </tr>\n",
       "  </tbody>\n",
       "</table>\n",
       "<p>2 rows × 24 columns</p>\n",
       "</div>"
      ],
      "text/plain": [
       "     Team_Head    Supplier     Customer        Contract_Date  \\\n",
       "2182    Muneeb  Siddiqsons    Takko Fab  2022-01-14 00:00:00   \n",
       "3889       SWU   Pak Denim  Tiffosi Fab  2024-02-12 00:00:00   \n",
       "\n",
       "            Dispatch_Date Payment_Days Expected_Payment_Date  Style_Name  \\\n",
       "2182  2023-10-31 00:00:00           60    2023-12-30 00:00:00    DS-9359   \n",
       "3889  2024-07-03 00:00:00           60    2024-09-01 00:00:00    PD-3023   \n",
       "\n",
       "      Dollar_Exchange_Rate  Per_item_Rate($)  ... Sales_Volume  \\\n",
       "2182                0.0063              3.44  ...        74041   \n",
       "3889                0.0040              2.46  ...        16236   \n",
       "\n",
       "      Exchange(PKR_to_$)  Commission_Dollar_Value  Commission_Percentage  \\\n",
       "2182               160.0                  1480.81                   0.02   \n",
       "3889               250.0                   324.72                   0.02   \n",
       "\n",
       "     Commission_PKR_Value  Commission_SW_Percentage  SW_Commission_PKR  Tax_%  \\\n",
       "2182             236930.0                     0.008              94772   0.12   \n",
       "3889              81180.0                     0.008              32472   0.12   \n",
       "\n",
       "      Commission_after_Tax(PKR)   SW_Rcvd_after_Tax  \n",
       "2182                      208498            83399.2  \n",
       "3889                       71438            28575.0  \n",
       "\n",
       "[2 rows x 24 columns]"
      ]
     },
     "metadata": {},
     "output_type": "display_data"
    }
   ],
   "source": [
    "# Check duplicate rows in the DataFrame\n",
    "duplicate_rows = df[df.duplicated()]\n",
    "if not duplicate_rows.empty:\n",
    "    print(\"Duplicate rows found:\")\n",
    "    display(duplicate_rows)\n",
    "else:\n",
    "    print(\"No duplicate rows found.\")"
   ]
  },
  {
   "cell_type": "code",
   "execution_count": 14,
   "id": "b3413956",
   "metadata": {},
   "outputs": [],
   "source": [
    "df = df.drop_duplicates() "
   ]
  },
  {
   "cell_type": "code",
   "execution_count": 15,
   "id": "2fa33cb5",
   "metadata": {},
   "outputs": [
    {
     "name": "stdout",
     "output_type": "stream",
     "text": [
      "Duplicate rows finally removed successfully!\n",
      "Final dataframe shape: (4614, 24)\n",
      "Data information:\n",
      "<class 'pandas.core.frame.DataFrame'>\n",
      "Index: 4614 entries, 0 to 4724\n",
      "Data columns (total 24 columns):\n",
      " #   Column                      Non-Null Count  Dtype  \n",
      "---  ------                      --------------  -----  \n",
      " 0   Team_Head                   4614 non-null   object \n",
      " 1   Supplier                    4614 non-null   object \n",
      " 2   Customer                    4614 non-null   object \n",
      " 3   Contract_Date               4614 non-null   object \n",
      " 4   Dispatch_Date               4614 non-null   object \n",
      " 5   Payment_Days                4614 non-null   object \n",
      " 6   Expected_Payment_Date       4614 non-null   object \n",
      " 7   Style_Name                  4614 non-null   object \n",
      " 8   Dollar_Exchange_Rate        4614 non-null   float64\n",
      " 9   Per_item_Rate($)            4614 non-null   float64\n",
      " 10  Contract_#                  4614 non-null   object \n",
      " 11  Contract_Qty.               4614 non-null   float64\n",
      " 12  Shipped_Quantity            4614 non-null   float64\n",
      " 13  Balance                     4614 non-null   float64\n",
      " 14  Sales_Volume                4614 non-null   object \n",
      " 15  Exchange(PKR_to_$)          4614 non-null   float64\n",
      " 16  Commission_Dollar_Value     4614 non-null   float64\n",
      " 17  Commission_Percentage       4614 non-null   float64\n",
      " 18  Commission_PKR_Value        4614 non-null   float64\n",
      " 19  Commission_SW_Percentage    4614 non-null   float64\n",
      " 20  SW_Commission_PKR           4614 non-null   object \n",
      " 21  Tax_%                       4614 non-null   object \n",
      " 22  Commission_after_Tax(PKR)   4614 non-null   object \n",
      " 23  SW_Rcvd_after_Tax           4614 non-null   float64\n",
      "dtypes: float64(11), object(13)\n",
      "memory usage: 901.2+ KB\n",
      "\n",
      "Data statistics:\n"
     ]
    },
    {
     "data": {
      "application/vnd.microsoft.datawrangler.viewer.v0+json": {
       "columns": [
        {
         "name": "index",
         "rawType": "object",
         "type": "string"
        },
        {
         "name": "Dollar_Exchange_Rate",
         "rawType": "float64",
         "type": "float"
        },
        {
         "name": "Per_item_Rate($)",
         "rawType": "float64",
         "type": "float"
        },
        {
         "name": "Contract_Qty.",
         "rawType": "float64",
         "type": "float"
        },
        {
         "name": "Shipped_Quantity",
         "rawType": "float64",
         "type": "float"
        },
        {
         "name": "Balance",
         "rawType": "float64",
         "type": "float"
        },
        {
         "name": "Exchange(PKR_to_$)",
         "rawType": "float64",
         "type": "float"
        },
        {
         "name": "Commission_Dollar_Value",
         "rawType": "float64",
         "type": "float"
        },
        {
         "name": "Commission_Percentage",
         "rawType": "float64",
         "type": "float"
        },
        {
         "name": "Commission_PKR_Value",
         "rawType": "float64",
         "type": "float"
        },
        {
         "name": "Commission_SW_Percentage",
         "rawType": "float64",
         "type": "float"
        },
        {
         "name": "SW_Rcvd_after_Tax",
         "rawType": "float64",
         "type": "float"
        }
       ],
       "ref": "92894155-858d-4e3e-a0a0-66c4306c1641",
       "rows": [
        [
         "count",
         "4614.0",
         "4614.0",
         "4614.0",
         "4614.0",
         "4614.0",
         "4614.0",
         "4614.0",
         "4614.0",
         "4614.0",
         "4614.0",
         "4614.0"
        ],
        [
         "mean",
         "0.8432014721750978",
         "5.876775574338969",
         "9324.590810576507",
         "9298.394761414536",
         "35.108871234484376",
         "216.50459304382312",
         "1715.0690548331165",
         "0.043508224967490246",
         "382331.55398190295",
         "0.03550666666666667",
         "253900.11226731687"
        ],
        [
         "std",
         "0.3613643415129562",
         "7.877694582472664",
         "13526.553551382542",
         "13524.80063910625",
         "678.8532794451495",
         "55.980085723145756",
         "2914.8190703307305",
         "0.06686887038051267",
         "687453.7999605564",
         "0.06657291325600571",
         "452449.04303033365"
        ],
        [
         "min",
         "0.0037",
         "0.63",
         "0.0",
         "0.0",
         "-1917.0",
         "100.0",
         "0.0",
         "0.0",
         "0.0",
         "0.0",
         "0.0"
        ],
        [
         "25%",
         "1.0",
         "3.63",
         "1302.75",
         "1284.0",
         "0.0",
         "160.0",
         "247.675",
         "0.02",
         "49496.0",
         "0.02",
         "37299.25"
        ],
        [
         "50%",
         "1.0",
         "5.7",
         "3215.5",
         "3196.5",
         "0.0",
         "206.0",
         "603.48",
         "0.0302",
         "128869.5",
         "0.0259",
         "102034.95"
        ],
        [
         "75%",
         "1.0",
         "7.4",
         "13036.25",
         "12959.25",
         "0.0",
         "278.4",
         "1743.9025000000001",
         "0.05",
         "372421.0",
         "0.0431",
         "248265.775"
        ],
        [
         "max",
         "1.0",
         "250.0",
         "260854.0",
         "260854.0",
         "36462.0",
         "416.3",
         "38642.8",
         "1.0",
         "11026723.0",
         "1.0",
         "7277637.2"
        ]
       ],
       "shape": {
        "columns": 11,
        "rows": 8
       }
      },
      "text/html": [
       "<div>\n",
       "<style scoped>\n",
       "    .dataframe tbody tr th:only-of-type {\n",
       "        vertical-align: middle;\n",
       "    }\n",
       "\n",
       "    .dataframe tbody tr th {\n",
       "        vertical-align: top;\n",
       "    }\n",
       "\n",
       "    .dataframe thead th {\n",
       "        text-align: right;\n",
       "    }\n",
       "</style>\n",
       "<table border=\"1\" class=\"dataframe\">\n",
       "  <thead>\n",
       "    <tr style=\"text-align: right;\">\n",
       "      <th></th>\n",
       "      <th>Dollar_Exchange_Rate</th>\n",
       "      <th>Per_item_Rate($)</th>\n",
       "      <th>Contract_Qty.</th>\n",
       "      <th>Shipped_Quantity</th>\n",
       "      <th>Balance</th>\n",
       "      <th>Exchange(PKR_to_$)</th>\n",
       "      <th>Commission_Dollar_Value</th>\n",
       "      <th>Commission_Percentage</th>\n",
       "      <th>Commission_PKR_Value</th>\n",
       "      <th>Commission_SW_Percentage</th>\n",
       "      <th>SW_Rcvd_after_Tax</th>\n",
       "    </tr>\n",
       "  </thead>\n",
       "  <tbody>\n",
       "    <tr>\n",
       "      <th>count</th>\n",
       "      <td>4614.000000</td>\n",
       "      <td>4614.000000</td>\n",
       "      <td>4614.000000</td>\n",
       "      <td>4614.000000</td>\n",
       "      <td>4614.000000</td>\n",
       "      <td>4614.000000</td>\n",
       "      <td>4614.000000</td>\n",
       "      <td>4614.000000</td>\n",
       "      <td>4.614000e+03</td>\n",
       "      <td>4614.000000</td>\n",
       "      <td>4.614000e+03</td>\n",
       "    </tr>\n",
       "    <tr>\n",
       "      <th>mean</th>\n",
       "      <td>0.843201</td>\n",
       "      <td>5.876776</td>\n",
       "      <td>9324.590811</td>\n",
       "      <td>9298.394761</td>\n",
       "      <td>35.108871</td>\n",
       "      <td>216.504593</td>\n",
       "      <td>1715.069055</td>\n",
       "      <td>0.043508</td>\n",
       "      <td>3.823316e+05</td>\n",
       "      <td>0.035507</td>\n",
       "      <td>2.539001e+05</td>\n",
       "    </tr>\n",
       "    <tr>\n",
       "      <th>std</th>\n",
       "      <td>0.361364</td>\n",
       "      <td>7.877695</td>\n",
       "      <td>13526.553551</td>\n",
       "      <td>13524.800639</td>\n",
       "      <td>678.853279</td>\n",
       "      <td>55.980086</td>\n",
       "      <td>2914.819070</td>\n",
       "      <td>0.066869</td>\n",
       "      <td>6.874538e+05</td>\n",
       "      <td>0.066573</td>\n",
       "      <td>4.524490e+05</td>\n",
       "    </tr>\n",
       "    <tr>\n",
       "      <th>min</th>\n",
       "      <td>0.003700</td>\n",
       "      <td>0.630000</td>\n",
       "      <td>0.000000</td>\n",
       "      <td>0.000000</td>\n",
       "      <td>-1917.000000</td>\n",
       "      <td>100.000000</td>\n",
       "      <td>0.000000</td>\n",
       "      <td>0.000000</td>\n",
       "      <td>0.000000e+00</td>\n",
       "      <td>0.000000</td>\n",
       "      <td>0.000000e+00</td>\n",
       "    </tr>\n",
       "    <tr>\n",
       "      <th>25%</th>\n",
       "      <td>1.000000</td>\n",
       "      <td>3.630000</td>\n",
       "      <td>1302.750000</td>\n",
       "      <td>1284.000000</td>\n",
       "      <td>0.000000</td>\n",
       "      <td>160.000000</td>\n",
       "      <td>247.675000</td>\n",
       "      <td>0.020000</td>\n",
       "      <td>4.949600e+04</td>\n",
       "      <td>0.020000</td>\n",
       "      <td>3.729925e+04</td>\n",
       "    </tr>\n",
       "    <tr>\n",
       "      <th>50%</th>\n",
       "      <td>1.000000</td>\n",
       "      <td>5.700000</td>\n",
       "      <td>3215.500000</td>\n",
       "      <td>3196.500000</td>\n",
       "      <td>0.000000</td>\n",
       "      <td>206.000000</td>\n",
       "      <td>603.480000</td>\n",
       "      <td>0.030200</td>\n",
       "      <td>1.288695e+05</td>\n",
       "      <td>0.025900</td>\n",
       "      <td>1.020349e+05</td>\n",
       "    </tr>\n",
       "    <tr>\n",
       "      <th>75%</th>\n",
       "      <td>1.000000</td>\n",
       "      <td>7.400000</td>\n",
       "      <td>13036.250000</td>\n",
       "      <td>12959.250000</td>\n",
       "      <td>0.000000</td>\n",
       "      <td>278.400000</td>\n",
       "      <td>1743.902500</td>\n",
       "      <td>0.050000</td>\n",
       "      <td>3.724210e+05</td>\n",
       "      <td>0.043100</td>\n",
       "      <td>2.482658e+05</td>\n",
       "    </tr>\n",
       "    <tr>\n",
       "      <th>max</th>\n",
       "      <td>1.000000</td>\n",
       "      <td>250.000000</td>\n",
       "      <td>260854.000000</td>\n",
       "      <td>260854.000000</td>\n",
       "      <td>36462.000000</td>\n",
       "      <td>416.300000</td>\n",
       "      <td>38642.800000</td>\n",
       "      <td>1.000000</td>\n",
       "      <td>1.102672e+07</td>\n",
       "      <td>1.000000</td>\n",
       "      <td>7.277637e+06</td>\n",
       "    </tr>\n",
       "  </tbody>\n",
       "</table>\n",
       "</div>"
      ],
      "text/plain": [
       "       Dollar_Exchange_Rate  Per_item_Rate($)  Contract_Qty.  \\\n",
       "count           4614.000000       4614.000000    4614.000000   \n",
       "mean               0.843201          5.876776    9324.590811   \n",
       "std                0.361364          7.877695   13526.553551   \n",
       "min                0.003700          0.630000       0.000000   \n",
       "25%                1.000000          3.630000    1302.750000   \n",
       "50%                1.000000          5.700000    3215.500000   \n",
       "75%                1.000000          7.400000   13036.250000   \n",
       "max                1.000000        250.000000  260854.000000   \n",
       "\n",
       "       Shipped_Quantity       Balance  Exchange(PKR_to_$)  \\\n",
       "count       4614.000000   4614.000000         4614.000000   \n",
       "mean        9298.394761     35.108871          216.504593   \n",
       "std        13524.800639    678.853279           55.980086   \n",
       "min            0.000000  -1917.000000          100.000000   \n",
       "25%         1284.000000      0.000000          160.000000   \n",
       "50%         3196.500000      0.000000          206.000000   \n",
       "75%        12959.250000      0.000000          278.400000   \n",
       "max       260854.000000  36462.000000          416.300000   \n",
       "\n",
       "       Commission_Dollar_Value  Commission_Percentage  Commission_PKR_Value  \\\n",
       "count              4614.000000            4614.000000          4.614000e+03   \n",
       "mean               1715.069055               0.043508          3.823316e+05   \n",
       "std                2914.819070               0.066869          6.874538e+05   \n",
       "min                   0.000000               0.000000          0.000000e+00   \n",
       "25%                 247.675000               0.020000          4.949600e+04   \n",
       "50%                 603.480000               0.030200          1.288695e+05   \n",
       "75%                1743.902500               0.050000          3.724210e+05   \n",
       "max               38642.800000               1.000000          1.102672e+07   \n",
       "\n",
       "       Commission_SW_Percentage  SW_Rcvd_after_Tax  \n",
       "count               4614.000000       4.614000e+03  \n",
       "mean                   0.035507       2.539001e+05  \n",
       "std                    0.066573       4.524490e+05  \n",
       "min                    0.000000       0.000000e+00  \n",
       "25%                    0.020000       3.729925e+04  \n",
       "50%                    0.025900       1.020349e+05  \n",
       "75%                    0.043100       2.482658e+05  \n",
       "max                    1.000000       7.277637e+06  "
      ]
     },
     "metadata": {},
     "output_type": "display_data"
    }
   ],
   "source": [
    "print(\"Duplicate rows finally removed successfully!\")\n",
    "print(f\"Final dataframe shape: {df.shape}\")\n",
    "print(\"Data information:\")\n",
    "df.info()\n",
    "print(\"\\nData statistics:\")\n",
    "display(df.describe())"
   ]
  },
  {
   "cell_type": "markdown",
   "id": "5959beb7",
   "metadata": {},
   "source": [
    "> Now we clean the dataset by removing the identified duplicates and outliers.\n",
    "on the next files, we will continue with the data analysis and modeling steps.\n",
    "\n",
    "+ For Data Visualization (DV): \n",
    "+ For Machine Learning (ML) modeling: "
   ]
  },
  {
   "cell_type": "markdown",
   "id": "02ab810e",
   "metadata": {},
   "source": [
    "___"
   ]
  }
 ],
 "metadata": {
  "kernelspec": {
   "display_name": "ml_py",
   "language": "python",
   "name": "python3"
  },
  "language_info": {
   "codemirror_mode": {
    "name": "ipython",
    "version": 3
   },
   "file_extension": ".py",
   "mimetype": "text/x-python",
   "name": "python",
   "nbconvert_exporter": "python",
   "pygments_lexer": "ipython3",
   "version": "3.11.11"
  }
 },
 "nbformat": 4,
 "nbformat_minor": 5
}
